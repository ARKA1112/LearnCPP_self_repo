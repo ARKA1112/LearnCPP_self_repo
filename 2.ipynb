{
 "cells": [
  {
   "cell_type": "markdown",
   "metadata": {},
   "source": [
    "2.7 Forward declarations and definitions"
   ]
  },
  {
   "cell_type": "code",
   "execution_count": 1,
   "metadata": {},
   "outputs": [
    {
     "name": "stderr",
     "output_type": "stream",
     "text": [
      "input_line_8:4:1: error: function definition is not allowed here\n",
      "{\n",
      "^\n",
      "input_line_8:10:1: error: function definition is not allowed here\n",
      "{\n",
      "^\n"
     ]
    },
    {
     "ename": "Interpreter Error",
     "evalue": "",
     "output_type": "error",
     "traceback": [
      "Interpreter Error: "
     ]
    }
   ],
   "source": [
    "#include <iostream>\n",
    "\n",
    "int add(int x, int y);  //forward declaration\n",
    "\n",
    "int main()\n",
    "{\n",
    "    std::cout<<\"The sum of two numbers are\"<< add(3,4);\n",
    "    return 0;\n",
    "}\n",
    "\n",
    "//although the body of add()  isnt defined until here\n",
    "\n",
    "\n",
    "int add(int x, int y)\n",
    "{\n",
    "    return x+y;\n",
    "}"
   ]
  },
  {
   "cell_type": "markdown",
   "metadata": {},
   "source": [
    "Declarations vs definitions\n",
    "\n"
   ]
  },
  {
   "cell_type": "code",
   "execution_count": 3,
   "metadata": {},
   "outputs": [
    {
     "name": "stderr",
     "output_type": "stream",
     "text": [
      "input_line_10:7:1: error: function definition is not allowed here\n",
      "{\n",
      "^\n"
     ]
    },
    {
     "ename": "Interpreter Error",
     "evalue": "",
     "output_type": "error",
     "traceback": [
      "Interpreter Error: "
     ]
    }
   ],
   "source": [
    "// In cpp we frequently hear the words declaration and definition. \n",
    "// Declaration is telling the compiler about the existence of an identifier and its and its associated type info\n",
    "\n",
    "// A declaration tells the compiler about the existence of an identifier and its associated type info\n",
    "\n",
    "int add(int x, int y);  /// Declaration\n",
    "\n",
    "int add(int x, int y)    //definition\n",
    "{  \n",
    "    return x+y;\n",
    "}"
   ]
  },
  {
   "cell_type": "markdown",
   "metadata": {},
   "source": [
    "ODR or one definition rule"
   ]
  },
  {
   "cell_type": "code",
   "execution_count": null,
   "metadata": {},
   "outputs": [],
   "source": [
    "// Within a file, each function variable and type or template can only have one definition. Definitions occuring in different scopes do not violate this rule\n",
    "\n",
    "// Within a program each function or variable can only have one definition. This rule exists bcausae programs can have more than one file \n",
    "\n",
    "\n",
    "// Types, templates, inline functions and inline varables are allowed to have duplicate definitions in different files, so long as each definition is identical \n",
    "\n",
    "\n",
    "\n",
    "int add(int x, int y)   //Function definition\n",
    "{\n",
    "    return x+y;\n",
    "}\n",
    "\n",
    "\n",
    "int add(int x, int y)   //Breaks ODR, redefinition of the funciton\n",
    "{\n",
    "    return x+y;\n",
    "}\n",
    "\n",
    "\n",
    "int main()\n",
    "{\n",
    "    int x{}; //definition of x\n",
    "    int x{5};  //Breaks ODR, redefinition of x\n",
    "}"
   ]
  },
  {
   "cell_type": "code",
   "execution_count": null,
   "metadata": {},
   "outputs": [],
   "source": [
    "//ex q4 \n",
    "\n",
    "\n",
    "int doMath(int first, int second, int third, int fourth);//function declaration\n",
    "\n",
    "\n",
    "\n",
    "int doMath(int first, int second, int third, int fourth)\n",
    "{\n",
    "     return first + second * third / fourth;\n",
    "}"
   ]
  },
  {
   "cell_type": "markdown",
   "metadata": {},
   "source": [
    "2.8 Program with multiple code files"
   ]
  },
  {
   "cell_type": "code",
   "execution_count": null,
   "metadata": {},
   "outputs": [],
   "source": [
    "// a multifile example\n",
    "\n",
    "int main()\n",
    "{\n",
    "    std::cout<<\"the sum of two numbers are\">>add(3,4);\n",
    "    return 0;\n",
    "}\n",
    "\n",
    "int add(int x, int y)\n",
    "{\n",
    "    return x+y;\n",
    "}\n",
    "\n",
    "/// the above wont compile because the add function wasnt declared or defined before\n",
    "\n",
    "\n",
    "//however we can create an add.cpp and use the add function there,followed by main.cpp. However it will still fail to compile\n",
    "\n",
    "\n",
    "// However we can use the main.cpp with forward declaration like this\n",
    "\n",
    "\n",
    "int add(int x, int y);// main.cpp knows that add function resides somewhere\n",
    "\n",
    "\n",
    "int main()\n",
    "{\n",
    "    std::cout<<\"the sum of two numbers are\"<<add(3,4);\n",
    "    return 0;\n",
    "}"
   ]
  },
  {
   "cell_type": "code",
   "execution_count": null,
   "metadata": {},
   "outputs": [],
   "source": [
    "//ex1\n",
    "\n",
    "//main.cpp\n",
    "#include <iostream>\n",
    "int getinteger();\n",
    "int main()\n",
    "{\n",
    "    int x{getinteger()};\n",
    "    int y{getinteger()};\n",
    "}\n",
    "\n",
    "//input.cpp\n",
    "#include <iostream>\n",
    "\n",
    "int getinteger()\n",
    "{\n",
    "    std::cout<<\"Enter an integer\";\n",
    "    int x{};\n",
    "    std::cin>>x;\n",
    "    return x;\n",
    "}"
   ]
  },
  {
   "cell_type": "markdown",
   "metadata": {},
   "source": [
    "2.9---Naming collisions and an introduction to namespaces"
   ]
  },
  {
   "cell_type": "code",
   "execution_count": null,
   "metadata": {},
   "outputs": [],
   "source": [
    "//Namespace\n",
    "\n",
    "//a samespace is a region that allows you to declare names inside of it for the purpose of disambiguation. The namespace provides a scope region (called namespace scope) to the names declared inside of it -- which simply means that any name declared inside the namespace wont be mistake for identical names in other scopes..\n",
    "\n",
    "//Imp-- A name declared in a namespace wont be mistaken ofr an identical name declared in another scope.\n",
    "\n"
   ]
  },
  {
   "cell_type": "code",
   "execution_count": null,
   "metadata": {},
   "outputs": [],
   "source": [
    "//Global namespace and examples\n",
    "\n",
    "#include <iostream>\n",
    "\n",
    "//All of teh gollowing statements are part of the global namespace\n",
    "\n",
    "\n",
    "void foo();  //okay: function forward declaration in the global namespace\n",
    "\n",
    "int x; //compiles but strongly discouraged: uninitialized variable definition in the global namespace\n",
    "\n",
    "int y{5}; //discouraged: variable definition with initalizer in the global namespace\n",
    "\n",
    "x = 5; //compile error: executable statements are not allowed in the global namespace\n",
    "\n",
    "int main()\n",
    "{\n",
    "    return 0;\n",
    "}\n",
    "\n",
    "\n",
    "void goo(); //okay another funciton forward declaration in the global namespace"
   ]
  },
  {
   "cell_type": "markdown",
   "metadata": {},
   "source": [
    "2.10--Directives and macros\n"
   ]
  },
  {
   "cell_type": "code",
   "execution_count": 5,
   "metadata": {},
   "outputs": [],
   "source": [
    "#include <iostream>\n",
    "\n",
    "#define MY_NAME \"Alex\"\n",
    "\n",
    "int main()\n",
    "{\n",
    "    std::cout<<\"My name is:\"<<MY_NAME<<'\\n';\n",
    "    return 0;\n",
    "}"
   ]
  },
  {
   "cell_type": "code",
   "execution_count": 7,
   "metadata": {},
   "outputs": [
    {
     "data": {
      "text/plain": [
       "\"Alex\""
      ]
     },
     "execution_count": 7,
     "metadata": {},
     "output_type": "execute_result"
    }
   ],
   "source": [
    "MY_NAME   //Although using macros like this is discouraged"
   ]
  },
  {
   "cell_type": "code",
   "execution_count": 9,
   "metadata": {},
   "outputs": [],
   "source": [
    "//Conditional compilation predprocessor directives allow you to specify under what conditions something will or wont compile.There are quite a few different conditionla compilation directives, but we will only conver the three that are useed by far the most here: #ifdef, #ifndef and #endif\n",
    "\n",
    "#include <iostream>\n",
    "\n",
    "#define PRINT_JOE\n",
    "\n",
    "\n",
    "int main()\n",
    "{\n",
    "    #ifdef PRINT_JOE\n",
    "        std::cout<< \"Joe\\n\"; // will be compiled since PRINT_JOE is defined\n",
    "    #endif\n",
    "\n",
    "    #ifdef PRINT_BOB\n",
    "        std::cout<<\"Bob\\n\"; //will be excluded since PRINT_BOT is not defined\n",
    "    #endif\n",
    "\n",
    "        return 0;\n",
    "}"
   ]
  },
  {
   "cell_type": "code",
   "execution_count": 11,
   "metadata": {},
   "outputs": [],
   "source": [
    "int main()\n",
    "{\n",
    "    #ifndef PRINT_BOB\n",
    "        std::cout<<\"print bob\";\n",
    "    #endif\n",
    "}"
   ]
  },
  {
   "cell_type": "code",
   "execution_count": 13,
   "metadata": {},
   "outputs": [],
   "source": [
    "int main()\n",
    "{\n",
    "    std::cout<<\"Joe\\n\";\n",
    "#if 0 //dont compile anything starting here\n",
    "    std::cout<<\"Bob\\n\";\n",
    "    std::cout<<\"Steve\\n\";\n",
    "#endif//until this point\n",
    "}"
   ]
  },
  {
   "cell_type": "code",
   "execution_count": 14,
   "metadata": {},
   "outputs": [
    {
     "name": "stdout",
     "output_type": "stream",
     "text": [
      "Joe\n"
     ]
    },
    {
     "data": {
      "text/plain": [
       "0"
      ]
     },
     "execution_count": 14,
     "metadata": {},
     "output_type": "execute_result"
    }
   ],
   "source": [
    "main()"
   ]
  },
  {
   "cell_type": "code",
   "execution_count": 15,
   "metadata": {},
   "outputs": [],
   "source": [
    "int main()\n",
    "{\n",
    "    std::cout<<\"joe\";\n",
    "#if 1 //reenables the code below\n",
    "    std::cout<<\"Bard\";\n",
    "    std::cout<<\"John\";\n",
    "#endif\n",
    "    return 0;\n",
    "}"
   ]
  },
  {
   "cell_type": "code",
   "execution_count": 16,
   "metadata": {},
   "outputs": [
    {
     "name": "stdout",
     "output_type": "stream",
     "text": [
      "joeBardJohn"
     ]
    },
    {
     "data": {
      "text/plain": [
       "0"
      ]
     },
     "execution_count": 16,
     "metadata": {},
     "output_type": "execute_result"
    }
   ],
   "source": [
    "main()"
   ]
  },
  {
   "cell_type": "code",
   "execution_count": 17,
   "metadata": {},
   "outputs": [
    {
     "name": "stdout",
     "output_type": "stream",
     "text": [
      "9\n"
     ]
    },
    {
     "data": {
      "text/plain": [
       "@0x7f1a2c9fcde0"
      ]
     },
     "execution_count": 17,
     "metadata": {},
     "output_type": "execute_result"
    }
   ],
   "source": [
    "#define FOO 9 // Here's a macro substitution\n",
    "\n",
    "#ifdef FOO // This FOO does not get replaced because it’s part of another preprocessor directive\n",
    "    std::cout << FOO << '\\n'; // This FOO gets replaced with 9 because it's part of the normal code\n",
    "#endif"
   ]
  },
  {
   "cell_type": "markdown",
   "metadata": {},
   "source": [
    "2.11--Header files"
   ]
  },
  {
   "cell_type": "code",
   "execution_count": 18,
   "metadata": {},
   "outputs": [],
   "source": [
    "//Header files allow us to put declarations in one location and then import them wherever we need them. This can save a lot of typing in multi-file programs"
   ]
  },
  {
   "cell_type": "code",
   "execution_count": 19,
   "metadata": {},
   "outputs": [],
   "source": [
    "#include <iostream>\n",
    "\n",
    "int main()\n",
    "{\n",
    "    std::cout << \"Hello, world!\";\n",
    "    return 0;\n",
    "}\n",
    "\n",
    "//No definition has been provided for the declaration for std::cout, so how does the compiler know what std::cout it\n",
    "\n",
    "\n",
    "//it is all included in <iostream>\n",
    "\n",
    "\n"
   ]
  },
  {
   "cell_type": "code",
   "execution_count": null,
   "metadata": {},
   "outputs": [],
   "source": [
    "//using the previous add.cpp and main.cpp we will implement header file..\n",
    "\n",
    "//we will convert the add.cpp to add.h"
   ]
  },
  {
   "cell_type": "code",
   "execution_count": 1,
   "metadata": {},
   "outputs": [
    {
     "name": "stderr",
     "output_type": "stream",
     "text": [
      "input_line_8:2:10: fatal error: 'something.h' file not found\n",
      "#include \"something.h\"\n",
      "         ^~~~~~~~~~~~~\n"
     ]
    },
    {
     "ename": "Interpreter Error",
     "evalue": "",
     "output_type": "error",
     "traceback": [
      "Interpreter Error: "
     ]
    }
   ],
   "source": [
    "// simple flow for using the .h header file\n",
    "\n",
    "//something.h\n",
    "int something(int);\n",
    "\n",
    "//main.cpp\n",
    "#include <iostream>\n",
    "#include \"something.h\"\n",
    "\n",
    "void something(int)\n",
    "{\n",
    "    \n",
    "}"
   ]
  },
  {
   "cell_type": "code",
   "execution_count": null,
   "metadata": {},
   "outputs": [],
   "source": [
    "//duplicate declaration and definiion causes error\n",
    "\n"
   ]
  },
  {
   "cell_type": "markdown",
   "metadata": {},
   "source": [
    "2.13 -- Implementation step 1"
   ]
  },
  {
   "cell_type": "code",
   "execution_count": 1,
   "metadata": {},
   "outputs": [],
   "source": [
    "// Outlinign your main funciton\n",
    "\n",
    "//Like the following way\n",
    "int main()\n",
    "{\n",
    "    // doBedroomThing();\n",
    "    // doBathroomThings();\n",
    "    // doBreakFastThings();\n",
    "    // doTransportationThings();\n",
    "\n",
    "    return 0;\n",
    "}"
   ]
  },
  {
   "cell_type": "code",
   "execution_count": null,
   "metadata": {},
   "outputs": [],
   "source": [
    "// In case of creating a calculator\n",
    "// The following steps has to be followed\n",
    "\n",
    "int main()\n",
    "{\n",
    "    //get the first number from user\n",
    "    // getUserInput();\n",
    "\n",
    "    //Get the mathematical operation from user\n",
    "    // getMathematicalOperation();\n",
    "\n",
    "    //Get second number frm user\n",
    "    //getUserInput();\n",
    "\n",
    "    //Perform the Operation\n",
    "    //calculateResult();\n",
    "\n",
    "\n",
    "    //print the result\n",
    "    //printResult();\n",
    "}"
   ]
  },
  {
   "cell_type": "code",
   "execution_count": null,
   "metadata": {},
   "outputs": [],
   "source": [
    "//implementaion step 2 : Implement each function\n",
    "\n",
    "\n",
    "// In this step, for each function, you will do three things:\n",
    "\n",
    "// 1 Define the function prototype (inputs and outputs)\n",
    "// 2 Write the function\n",
    "// 3 Test the function\n",
    "\n",
    "\n"
   ]
  }
 ],
 "metadata": {
  "kernelspec": {
   "display_name": "C++11",
   "language": "C++11",
   "name": "xcpp11"
  },
  "language_info": {
   "codemirror_mode": "text/x-c++src",
   "file_extension": ".cpp",
   "mimetype": "text/x-c++src",
   "name": "c++",
   "version": "11"
  }
 },
 "nbformat": 4,
 "nbformat_minor": 2
}
