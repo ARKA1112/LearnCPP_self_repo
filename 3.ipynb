{
 "cells": [
  {
   "cell_type": "markdown",
   "metadata": {},
   "source": [
    "Syntax and semantic errors"
   ]
  }
 ],
 "metadata": {
  "kernelspec": {
   "display_name": "C++11",
   "language": "C++11",
   "name": "xcpp11"
  },
  "language_info": {
   "name": "C++11"
  }
 },
 "nbformat": 4,
 "nbformat_minor": 2
}
